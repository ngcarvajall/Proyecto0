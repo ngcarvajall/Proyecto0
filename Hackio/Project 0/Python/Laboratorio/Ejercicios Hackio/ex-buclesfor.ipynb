{
 "cells": [
  {
   "cell_type": "markdown",
   "metadata": {},
   "source": [
    "<div style=\"text-align: center;\">\n",
    "  <img src=\"https://github.com/Hack-io-Data/Imagenes/blob/main/01-LogosHackio/logo_celeste@4x.png?raw=true\" alt=\"logo hack(io)\" />\n",
    "</div>"
   ]
  },
  {
   "cell_type": "markdown",
   "metadata": {},
   "source": [
    "####  1. Genera una lista de números del 0 al 4 y luego imprime cada número en la lista usando un `bucle for`. "
   ]
  },
  {
   "cell_type": "code",
   "execution_count": 2,
   "metadata": {},
   "outputs": [
    {
     "name": "stdout",
     "output_type": "stream",
     "text": [
      "Este es el número: 0\n",
      "Este es el número: 1\n",
      "Este es el número: 2\n",
      "Este es el número: 3\n",
      "Este es el número: 4\n"
     ]
    }
   ],
   "source": [
    "numeros = [0,1,2,3,4]\n",
    "\n",
    "for n in numeros:\n",
    "    print(f'Este es el número: {n}')"
   ]
  },
  {
   "cell_type": "markdown",
   "metadata": {},
   "source": [
    "#### 2. Itera sobre una lista de frutas y muestra cada fruta en mayúsculas. \n"
   ]
  },
  {
   "cell_type": "code",
   "execution_count": 5,
   "metadata": {},
   "outputs": [
    {
     "name": "stdout",
     "output_type": "stream",
     "text": [
      "MANZANA\n",
      "BANANA\n",
      "PIÑA\n",
      "MELÓN\n",
      "UVA\n"
     ]
    }
   ],
   "source": [
    "frutas = ['manzana', 'banana', 'piña', 'melón', 'uva']\n",
    "\n",
    "for i in frutas:\n",
    "    print(i.upper())"
   ]
  },
  {
   "cell_type": "markdown",
   "metadata": {},
   "source": [
    "####  3. Genera un bucle while que imprima los números del 0 al 4. \n"
   ]
  },
  {
   "cell_type": "code",
   "execution_count": 11,
   "metadata": {},
   "outputs": [
    {
     "name": "stdout",
     "output_type": "stream",
     "text": [
      "0\n",
      "1\n",
      "2\n",
      "3\n",
      "4\n"
     ]
    }
   ],
   "source": [
    "numero = 0\n",
    "\n",
    "while numero < 5:\n",
    "    print(numero)\n",
    "    numero += 1"
   ]
  },
  {
   "cell_type": "markdown",
   "metadata": {},
   "source": [
    "#### 4. Genera un bucle del 0 al 9, pero que se detenga en el 5.\n"
   ]
  },
  {
   "cell_type": "code",
   "execution_count": 15,
   "metadata": {},
   "outputs": [
    {
     "name": "stdout",
     "output_type": "stream",
     "text": [
      "0\n",
      "1\n",
      "2\n",
      "3\n",
      "4\n"
     ]
    }
   ],
   "source": [
    "for i in range(10):\n",
    "    if i == 5:\n",
    "        break\n",
    "    else:\n",
    "        print(i)"
   ]
  },
  {
   "cell_type": "markdown",
   "metadata": {},
   "source": [
    "#### 5. Recorre los números del 0 al 9 e imprime solo los números impares."
   ]
  },
  {
   "cell_type": "code",
   "execution_count": 17,
   "metadata": {},
   "outputs": [
    {
     "name": "stdout",
     "output_type": "stream",
     "text": [
      "0\n",
      "2\n",
      "4\n",
      "6\n",
      "8\n"
     ]
    }
   ],
   "source": [
    "for i in range(10):\n",
    "    if i % 2 == 0:\n",
    "        print(i)"
   ]
  },
  {
   "cell_type": "markdown",
   "metadata": {},
   "source": [
    "#### 6. Dada la lista `[10, 20, 30, 40, 50]`, calcula la suma de todos los elementos usando un bucle `for`."
   ]
  },
  {
   "cell_type": "code",
   "execution_count": 20,
   "metadata": {},
   "outputs": [
    {
     "name": "stdout",
     "output_type": "stream",
     "text": [
      "La suma total de todos los elementos es: 150\n"
     ]
    }
   ],
   "source": [
    "lista = [10,20,30,40,50]\n",
    "suma = 0\n",
    "\n",
    "for i in lista:\n",
    "    suma += i\n",
    "print('La suma total de todos los elementos es:', suma)"
   ]
  },
  {
   "cell_type": "markdown",
   "metadata": {},
   "source": [
    "#### 7. Dada la cadena `\"Hola mundo\"`, cuenta cuántas veces aparecen las vocales (`a`, `e`, `i`, `o`, `u`) usando un bucle `for`.\n"
   ]
  },
  {
   "cell_type": "code",
   "execution_count": 30,
   "metadata": {},
   "outputs": [
    {
     "name": "stdout",
     "output_type": "stream",
     "text": [
      "El número de vocales en la cadena es: 4\n"
     ]
    }
   ],
   "source": [
    "cadena = \"Hola mundo\"\n",
    "\n",
    "contar_vocales = 0\n",
    "\n",
    "# Iterar sobre cada carácter en la cadena\n",
    "for i in cadena:\n",
    "    # Comprobar si el carácter es una vocal\n",
    "    if i.lower() in \"aeiou\":\n",
    "        contar_vocales += 1\n",
    "\n",
    "# Mostrar el número total de vocales\n",
    "print(\"El número de vocales en la cadena es:\", contar_vocales)\n",
    "\n",
    "\n"
   ]
  },
  {
   "cell_type": "markdown",
   "metadata": {},
   "source": [
    "#### 8. Dada la cadena `\"Python\"`, usa un bucle `for` para imprimir los caracteres en orden inverso (`n`, `o`, `h`, `t`, `y`, `P`).\n"
   ]
  },
  {
   "cell_type": "code",
   "execution_count": 31,
   "metadata": {},
   "outputs": [
    {
     "name": "stdout",
     "output_type": "stream",
     "text": [
      "nohtyp\n"
     ]
    }
   ],
   "source": [
    "# Definir la palabra\n",
    "palabra = \"python\"\n",
    "\n",
    "# Inicializar una variable para almacenar la palabra invertida\n",
    "palabra_inversa = \"\"\n",
    "\n",
    "# Usar un bucle for para iterar sobre cada carácter de la palabra, empezando desde el final\n",
    "for caracter in palabra:\n",
    "    palabra_inversa = caracter + palabra_inversa\n",
    "\n",
    "# Mostrar la palabra invertida\n",
    "print(palabra_inversa)\n"
   ]
  },
  {
   "cell_type": "markdown",
   "metadata": {},
   "source": [
    "#### 9. Dada la lista `[1, 2, 3, 4, 5]`, multiplica todos sus elementos usando un bucle `for` y almacena los resultados en una lista nueva. \n"
   ]
  },
  {
   "cell_type": "code",
   "execution_count": 32,
   "metadata": {},
   "outputs": [
    {
     "name": "stdout",
     "output_type": "stream",
     "text": [
      "El producto de todos los elementos es: 120\n"
     ]
    }
   ],
   "source": [
    "lista = [1,2,3,4,5]\n",
    "\n",
    "producto = 1\n",
    "\n",
    "for i in lista:\n",
    "    producto *= i\n",
    "print('El producto de todos los elementos es:', producto)"
   ]
  },
  {
   "cell_type": "markdown",
   "metadata": {},
   "source": [
    "#### 10. Dada la lista `[1, 2, 3, 4, 5, 6, 7, 8, 9, 10]`, utiliza un bucle `for` para contar cuántos números son pares y cuántos son impares."
   ]
  },
  {
   "cell_type": "code",
   "execution_count": 50,
   "metadata": {},
   "outputs": [
    {
     "name": "stdout",
     "output_type": "stream",
     "text": [
      "El contenido de lista_pares es de: 5\n",
      "El contenido de lista_impares es de: 5\n"
     ]
    }
   ],
   "source": [
    "lista = [1,2,3,4,5,6,7,8,9,10]\n",
    "lista_pares = []\n",
    "lista_impares = []\n",
    "\n",
    "for i in lista:\n",
    "    if i % 2 == 0:\n",
    "        lista_pares.append(i)\n",
    "    else:\n",
    "        lista_impares.append(i)\n",
    "\n",
    "print('El contenido de lista_pares es de:', len(lista_pares))\n",
    "print('El contenido de lista_impares es de:', len(lista_impares))"
   ]
  },
  {
   "cell_type": "markdown",
   "metadata": {},
   "source": [
    "#### 11. Escribe un programa que solicite al usuario un número entero positivo (`n`) y calcule la suma de todos los números primos menores o iguales a `n`. Utiliza un bucle `for` para iterar sobre cada número y verifica si es primo."
   ]
  },
  {
   "cell_type": "code",
   "execution_count": 53,
   "metadata": {},
   "outputs": [
    {
     "name": "stdout",
     "output_type": "stream",
     "text": [
      "La suma de todos los números primos menores o iguales a 8 es: 17\n"
     ]
    }
   ],
   "source": [
    "### Revisar\n",
    "\n",
    "\n",
    "# Solicitar al usuario un número entero positivo\n",
    "n = int(input(\"Introduce un número entero positivo: \"))\n",
    "\n",
    "# Inicializar la suma de números primos\n",
    "suma_primos = 0\n",
    "\n",
    "# Iterar sobre cada número desde 2 hasta n\n",
    "for num in range(2, n + 1):\n",
    "    # Verificar si el número es primo\n",
    "    es_primo = True\n",
    "    for i in range(2, num):\n",
    "        if num % i == 0:\n",
    "            es_primo = False\n",
    "            break\n",
    "    \n",
    "    # Si el número es primo, añadirlo a la suma\n",
    "    if es_primo:\n",
    "        suma_primos += num\n",
    "\n",
    "# Mostrar la suma de todos los números primos menores o iguales a n\n",
    "print(f\"La suma de todos los números primos menores o iguales a {n} es: {suma_primos}\")\n",
    "\n"
   ]
  },
  {
   "cell_type": "markdown",
   "metadata": {},
   "source": [
    "#### 12. Escribe un programa que solicite al usuario un número entero positivo (`n`) y luego imprima un patrón de asteriscos como el siguiente ejemplo para `n = 5`:\n",
    "```\n",
    "*\n",
    "**\n",
    "***\n",
    "****\n",
    "*****\n",
    "```\n",
    "Utiliza un bucle `for` anidado para controlar la cantidad de asteriscos en cada línea."
   ]
  },
  {
   "cell_type": "code",
   "execution_count": 55,
   "metadata": {},
   "outputs": [
    {
     "name": "stdout",
     "output_type": "stream",
     "text": [
      "*\n",
      "**\n",
      "***\n",
      "****\n",
      "*****\n",
      "******\n",
      "*******\n"
     ]
    }
   ],
   "source": [
    "### Revisar\n",
    "\n",
    "\n",
    "# Solicitar al usuario un número entero positivo\n",
    "n = int(input(\"Introduce un número entero positivo: \"))\n",
    "\n",
    "# Generar el patrón de asteriscos\n",
    "for i in range(1, n + 1):  # Bucle externo para las líneas\n",
    "    for j in range(i):  # Bucle interno para los asteriscos en cada línea\n",
    "        print('*', end='')  # Imprimir un asterisco sin saltar de línea\n",
    "    print()  # Saltar a la siguiente línea después de imprimir los asteriscos\n"
   ]
  },
  {
   "cell_type": "markdown",
   "metadata": {},
   "source": [
    "#### 13. Dado un texto, utiliza un bucle `for` para contar cuántas veces aparece cada palabra en el texto. Ignora mayúsculas/minúsculas y los signos de puntuación."
   ]
  },
  {
   "cell_type": "code",
   "execution_count": 56,
   "metadata": {},
   "outputs": [
    {
     "name": "stdout",
     "output_type": "stream",
     "text": [
      "La palabra 'el' aparece 1 veces.\n",
      "La palabra 'amor' aparece 1 veces.\n",
      "La palabra 'es' aparece 1 veces.\n",
      "La palabra 'una' aparece 2 veces.\n",
      "La palabra 'magia' aparece 1 veces.\n",
      "La palabra 'triste' aparece 1 veces.\n",
      "La palabra 'fantasía' aparece 1 veces.\n"
     ]
    }
   ],
   "source": [
    "### Revisar\n",
    "\n",
    "import string\n",
    "\n",
    "# Texto dado\n",
    "texto = 'el amor es una magia, una triste fantasía'\n",
    "\n",
    "# Convertir el texto a minúsculas\n",
    "texto = texto.lower()\n",
    "\n",
    "# Eliminar los signos de puntuación\n",
    "texto = texto.translate(str.maketrans('', '', string.punctuation))\n",
    "\n",
    "# Dividir el texto en palabras\n",
    "palabras = texto.split()\n",
    "\n",
    "# Inicializar un diccionario para contar las palabras\n",
    "conteo_palabras = {}\n",
    "\n",
    "# Usar un bucle for para contar las apariciones de cada palabra\n",
    "for palabra in palabras:\n",
    "    if palabra in conteo_palabras:\n",
    "        conteo_palabras[palabra] += 1\n",
    "    else:\n",
    "        conteo_palabras[palabra] = 1\n",
    "\n",
    "# Mostrar el conteo de palabras\n",
    "for palabra, conteo in conteo_palabras.items():\n",
    "    print(f\"La palabra '{palabra}' aparece {conteo} veces.\")\n"
   ]
  },
  {
   "cell_type": "markdown",
   "metadata": {},
   "source": [
    "#### 14. Escribe un programa que solicite al usuario dos números enteros positivos (`inicio` y `fin`, donde `inicio <= fin`) y luego calcule la suma de los números pares y la suma de los números impares en ese rango. Utiliza un bucle `for` para iterar sobre cada número y una estructura `if-else` para clasificar y sumar los números pares e impares."
   ]
  },
  {
   "cell_type": "code",
   "execution_count": 57,
   "metadata": {},
   "outputs": [
    {
     "name": "stdout",
     "output_type": "stream",
     "text": [
      "La suma de los números pares en el rango es: 6\n",
      "La suma de los números impares en el rango es: 12\n"
     ]
    }
   ],
   "source": [
    "# Solicitar al usuario los números de inicio y fin\n",
    "inicio = int(input(\"Introduce el número de inicio (entero positivo): \"))\n",
    "fin = int(input(\"Introduce el número de fin (entero positivo y mayor o igual que inicio): \"))\n",
    "\n",
    "# Inicializar las sumas para pares e impares\n",
    "suma_pares = 0\n",
    "suma_impares = 0\n",
    "\n",
    "# Iterar sobre el rango de números desde inicio hasta fin\n",
    "for numero in range(inicio, fin + 1):\n",
    "    if numero % 2 == 0:\n",
    "        suma_pares += numero  # Si el número es par, sumarlo a suma_pares\n",
    "    else:\n",
    "        suma_impares += numero  # Si el número es impar, sumarlo a suma_impares\n",
    "\n",
    "# Mostrar los resultados\n",
    "print(f\"La suma de los números pares en el rango es: {suma_pares}\")\n",
    "print(f\"La suma de los números impares en el rango es: {suma_impares}\")\n"
   ]
  },
  {
   "cell_type": "markdown",
   "metadata": {},
   "source": [
    "#### 15. Escribe un programa que solicite al usuario un número entero positivo (`n`) y luego identifique todos los números primos menores o iguales a `n`. Para cada número, imprime si es primo o no usando un bucle `for` y una estructura `if-else` para verificar la condición de primalidad."
   ]
  },
  {
   "cell_type": "code",
   "execution_count": 67,
   "metadata": {},
   "outputs": [
    {
     "name": "stdout",
     "output_type": "stream",
     "text": [
      "2 es primo.\n",
      "3 es primo.\n",
      "4 no es primo.\n",
      "5 es primo.\n",
      "6 no es primo.\n",
      "7 es primo.\n",
      "8 no es primo.\n"
     ]
    }
   ],
   "source": [
    "# Solicitar al usuario un número entero positivo\n",
    "n = int(input(\"Introduce un número entero positivo: \"))\n",
    "\n",
    "# Función para verificar si un número es primo\n",
    "def es_primo(num):\n",
    "    if num < 2:\n",
    "        return False\n",
    "    for i in range(2, int(num ** 0.5) + 1):\n",
    "        if num % i == 0:\n",
    "            return False\n",
    "    return True\n",
    "\n",
    "# Iterar sobre cada número desde 2 hasta n\n",
    "for numero in range(2, n + 1):\n",
    "    if es_primo(numero):\n",
    "        print(f\"{numero} es primo.\")\n",
    "    else:\n",
    "        print(f\"{numero} no es primo.\")\n"
   ]
  },
  {
   "cell_type": "markdown",
   "metadata": {},
   "source": [
    "#### 16.Dada una lista de precios `[100, 200, 300, 400, 500]`, aplica un descuento del 10% a todos los precios mayores a `250`. Imprime la lista actualizada de precios después de aplicar el descuento utilizando un bucle `for`. "
   ]
  },
  {
   "cell_type": "code",
   "execution_count": 62,
   "metadata": {},
   "outputs": [
    {
     "name": "stdout",
     "output_type": "stream",
     "text": [
      "[100, 200, 270.0, 360.0, 450.0]\n"
     ]
    }
   ],
   "source": [
    "lista_precios = [100,200,300,400,500]\n",
    "\n",
    "precio_descuento = []\n",
    "\n",
    "for i in lista_precios:\n",
    "    if i > 250:\n",
    "        descuento = i *0.10\n",
    "        i = i - descuento\n",
    "    precio_descuento.append(i)\n",
    "\n",
    "print(precio_descuento)\n",
    "\n",
    "\n",
    "# Lista de precios original\n",
    "lista_precios = [100, 200, 300, 400, 500]\n",
    "\n",
    "# Iterar sobre la lista utilizando enumerate para obtener el índice y el valor\n",
    "for i, precio in enumerate(lista_precios):\n",
    "    if precio > 250:\n",
    "        descuento = precio * 0.10  # Calcular el descuento\n",
    "        lista_precios[i] -= descuento  # Aplicar el descuento directamente en la lista\n",
    "\n",
    "# Imprimir la lista actualizada de precios con descuento\n",
    "print(lista_precios)\n",
    "\n"
   ]
  },
  {
   "cell_type": "markdown",
   "metadata": {},
   "source": [
    "#### 17. Dada una lista de calificaciones de estudiantes `[85, 92, 78, 90, 88]`, clasifica a cada estudiante como \"Aprobado\" si la calificación es mayor o igual a `80` y como \"Reprobado\" si es menor a `80`. Imprime el nombre de cada estudiante junto con su estado utilizando un bucle `for` y una estructura `if-else`.\n"
   ]
  },
  {
   "cell_type": "code",
   "execution_count": 64,
   "metadata": {},
   "outputs": [
    {
     "name": "stdout",
     "output_type": "stream",
     "text": [
      "Jaime estado: Aprobado\n",
      "Silvia estado: Aprobado\n",
      "Ana estado: Reprobado\n",
      "Jeancha estado: Aprobado\n",
      "Albert estado: Aprobado\n"
     ]
    }
   ],
   "source": [
    "calificaciones = {'Jaime':85,\n",
    "        'Silvia': 92,\n",
    "        'Ana':78,\n",
    "        'Jeancha':90,\n",
    "        'Albert':88}\n",
    "\n",
    "for k, v in calificaciones.items():\n",
    "    if v >= 80:\n",
    "        print(k,'estado: Aprobado')\n",
    "    else:\n",
    "        print(k,'estado: Reprobado') \n"
   ]
  },
  {
   "cell_type": "markdown",
   "metadata": {},
   "source": [
    "\n",
    "#### 18. Escribe un programa que solicite al usuario dos números enteros positivos (`inicio`, `fin`) y otro número entero positivo (`divisor`). Encuentra el número más grande en el rango desde `inicio` hasta `fin` que sea divisible por `divisor`. Utiliza un bucle `for` y una estructura `if-else` para verificar y mantener el registro del número más grande divisible por el divisor dado.\n"
   ]
  },
  {
   "cell_type": "code",
   "execution_count": 68,
   "metadata": {},
   "outputs": [
    {
     "name": "stdout",
     "output_type": "stream",
     "text": [
      "El número más grande en el rango que es divisible por 4 es: 20\n"
     ]
    }
   ],
   "source": [
    "# Solicitar los valores de inicio, fin y divisor\n",
    "inicio = int(input(\"Introduce el número de inicio: \"))\n",
    "fin = int(input(\"Introduce el número de fin: \"))\n",
    "divisor = int(input(\"Introduce el divisor: \"))\n",
    "\n",
    "# Variable para almacenar el número más grande divisible por el divisor\n",
    "numero_max = None\n",
    "\n",
    "# Iterar sobre el rango desde inicio hasta fin (incluido)\n",
    "for num in range(inicio, fin + 1):\n",
    "    if num % divisor == 0:\n",
    "        if numero_max is None or num > numero_max:\n",
    "            numero_max = num\n",
    "\n",
    "# Verificar si se encontró un número divisible y mostrar el resultado\n",
    "if numero_max is not None:\n",
    "    print(f\"El número más grande en el rango que es divisible por {divisor} es: {numero_max}\")\n",
    "else:\n",
    "    print(f\"No hay ningún número en el rango que sea divisible por {divisor}.\")\n"
   ]
  },
  {
   "cell_type": "code",
   "execution_count": null,
   "metadata": {},
   "outputs": [],
   "source": []
  }
 ],
 "metadata": {
  "kernelspec": {
   "display_name": "hackio",
   "language": "python",
   "name": "python3"
  },
  "language_info": {
   "codemirror_mode": {
    "name": "ipython",
    "version": 3
   },
   "file_extension": ".py",
   "mimetype": "text/x-python",
   "name": "python",
   "nbconvert_exporter": "python",
   "pygments_lexer": "ipython3",
   "version": "3.11.9"
  }
 },
 "nbformat": 4,
 "nbformat_minor": 2
}
